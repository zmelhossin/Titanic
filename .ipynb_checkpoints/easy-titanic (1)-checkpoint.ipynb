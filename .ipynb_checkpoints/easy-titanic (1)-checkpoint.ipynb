{
 "cells": [
  {
   "cell_type": "code",
   "execution_count": 54,
   "metadata": {
    "_cell_guid": "b1076dfc-b9ad-4769-8c92-a6c4dae69d19",
    "_uuid": "8f2839f25d086af736a60e9eeb907d3b93b6e0e5",
    "execution": {
     "iopub.execute_input": "2023-03-16T22:16:38.229296Z",
     "iopub.status.busy": "2023-03-16T22:16:38.228469Z",
     "iopub.status.idle": "2023-03-16T22:16:38.240018Z",
     "shell.execute_reply": "2023-03-16T22:16:38.238923Z",
     "shell.execute_reply.started": "2023-03-16T22:16:38.229234Z"
    }
   },
   "outputs": [],
   "source": [
    "# data analysis and wrangling\n",
    "import pandas as pd\n",
    "import numpy as np\n",
    "import random as rnd\n",
    "\n",
    "# visualization\n",
    "import seaborn as sns\n",
    "import matplotlib.pyplot as plt\n",
    "%matplotlib inline\n",
    "\n",
    "# machine learning\n",
    "from sklearn.linear_model import LogisticRegression\n",
    "from sklearn.svm import SVC, LinearSVC\n",
    "from sklearn.ensemble import RandomForestClassifier\n",
    "from sklearn.neighbors import KNeighborsClassifier\n",
    "from sklearn.naive_bayes import GaussianNB\n",
    "from sklearn.linear_model import Perceptron\n",
    "from sklearn.linear_model import SGDClassifier\n",
    "from sklearn.tree import DecisionTreeClassifier"
   ]
  },
  {
   "cell_type": "code",
   "execution_count": 55,
   "metadata": {
    "execution": {
     "iopub.execute_input": "2023-03-16T22:16:39.326037Z",
     "iopub.status.busy": "2023-03-16T22:16:39.325516Z",
     "iopub.status.idle": "2023-03-16T22:16:39.351501Z",
     "shell.execute_reply": "2023-03-16T22:16:39.350457Z",
     "shell.execute_reply.started": "2023-03-16T22:16:39.325999Z"
    }
   },
   "outputs": [],
   "source": [
    "train = pd.read_csv(\"/kaggle/input/titanic/train.csv\")\n",
    "test=pd.read_csv(\"/kaggle/input/titanic/test.csv\")"
   ]
  },
  {
   "cell_type": "code",
   "execution_count": 56,
   "metadata": {
    "execution": {
     "iopub.execute_input": "2023-03-16T22:16:40.667980Z",
     "iopub.status.busy": "2023-03-16T22:16:40.667169Z",
     "iopub.status.idle": "2023-03-16T22:16:40.730921Z",
     "shell.execute_reply": "2023-03-16T22:16:40.729877Z",
     "shell.execute_reply.started": "2023-03-16T22:16:40.667939Z"
    }
   },
   "outputs": [
    {
     "data": {
      "text/html": [
       "<div>\n",
       "<style scoped>\n",
       "    .dataframe tbody tr th:only-of-type {\n",
       "        vertical-align: middle;\n",
       "    }\n",
       "\n",
       "    .dataframe tbody tr th {\n",
       "        vertical-align: top;\n",
       "    }\n",
       "\n",
       "    .dataframe thead th {\n",
       "        text-align: right;\n",
       "    }\n",
       "</style>\n",
       "<table border=\"1\" class=\"dataframe\">\n",
       "  <thead>\n",
       "    <tr style=\"text-align: right;\">\n",
       "      <th></th>\n",
       "      <th>PassengerId</th>\n",
       "      <th>Survived</th>\n",
       "      <th>Pclass</th>\n",
       "      <th>Name</th>\n",
       "      <th>Sex</th>\n",
       "      <th>Age</th>\n",
       "      <th>SibSp</th>\n",
       "      <th>Parch</th>\n",
       "      <th>Ticket</th>\n",
       "      <th>Fare</th>\n",
       "      <th>Cabin</th>\n",
       "      <th>Embarked</th>\n",
       "    </tr>\n",
       "  </thead>\n",
       "  <tbody>\n",
       "    <tr>\n",
       "      <th>0</th>\n",
       "      <td>1</td>\n",
       "      <td>0</td>\n",
       "      <td>3</td>\n",
       "      <td>Braund, Mr. Owen Harris</td>\n",
       "      <td>male</td>\n",
       "      <td>22.0</td>\n",
       "      <td>1</td>\n",
       "      <td>0</td>\n",
       "      <td>A/5 21171</td>\n",
       "      <td>7.2500</td>\n",
       "      <td>NaN</td>\n",
       "      <td>S</td>\n",
       "    </tr>\n",
       "    <tr>\n",
       "      <th>1</th>\n",
       "      <td>2</td>\n",
       "      <td>1</td>\n",
       "      <td>1</td>\n",
       "      <td>Cumings, Mrs. John Bradley (Florence Briggs Th...</td>\n",
       "      <td>female</td>\n",
       "      <td>38.0</td>\n",
       "      <td>1</td>\n",
       "      <td>0</td>\n",
       "      <td>PC 17599</td>\n",
       "      <td>71.2833</td>\n",
       "      <td>C85</td>\n",
       "      <td>C</td>\n",
       "    </tr>\n",
       "    <tr>\n",
       "      <th>2</th>\n",
       "      <td>3</td>\n",
       "      <td>1</td>\n",
       "      <td>3</td>\n",
       "      <td>Heikkinen, Miss. Laina</td>\n",
       "      <td>female</td>\n",
       "      <td>26.0</td>\n",
       "      <td>0</td>\n",
       "      <td>0</td>\n",
       "      <td>STON/O2. 3101282</td>\n",
       "      <td>7.9250</td>\n",
       "      <td>NaN</td>\n",
       "      <td>S</td>\n",
       "    </tr>\n",
       "    <tr>\n",
       "      <th>3</th>\n",
       "      <td>4</td>\n",
       "      <td>1</td>\n",
       "      <td>1</td>\n",
       "      <td>Futrelle, Mrs. Jacques Heath (Lily May Peel)</td>\n",
       "      <td>female</td>\n",
       "      <td>35.0</td>\n",
       "      <td>1</td>\n",
       "      <td>0</td>\n",
       "      <td>113803</td>\n",
       "      <td>53.1000</td>\n",
       "      <td>C123</td>\n",
       "      <td>S</td>\n",
       "    </tr>\n",
       "    <tr>\n",
       "      <th>4</th>\n",
       "      <td>5</td>\n",
       "      <td>0</td>\n",
       "      <td>3</td>\n",
       "      <td>Allen, Mr. William Henry</td>\n",
       "      <td>male</td>\n",
       "      <td>35.0</td>\n",
       "      <td>0</td>\n",
       "      <td>0</td>\n",
       "      <td>373450</td>\n",
       "      <td>8.0500</td>\n",
       "      <td>NaN</td>\n",
       "      <td>S</td>\n",
       "    </tr>\n",
       "  </tbody>\n",
       "</table>\n",
       "</div>"
      ],
      "text/plain": [
       "   PassengerId  Survived  Pclass  \\\n",
       "0            1         0       3   \n",
       "1            2         1       1   \n",
       "2            3         1       3   \n",
       "3            4         1       1   \n",
       "4            5         0       3   \n",
       "\n",
       "                                                Name     Sex   Age  SibSp  \\\n",
       "0                            Braund, Mr. Owen Harris    male  22.0      1   \n",
       "1  Cumings, Mrs. John Bradley (Florence Briggs Th...  female  38.0      1   \n",
       "2                             Heikkinen, Miss. Laina  female  26.0      0   \n",
       "3       Futrelle, Mrs. Jacques Heath (Lily May Peel)  female  35.0      1   \n",
       "4                           Allen, Mr. William Henry    male  35.0      0   \n",
       "\n",
       "   Parch            Ticket     Fare Cabin Embarked  \n",
       "0      0         A/5 21171   7.2500   NaN        S  \n",
       "1      0          PC 17599  71.2833   C85        C  \n",
       "2      0  STON/O2. 3101282   7.9250   NaN        S  \n",
       "3      0            113803  53.1000  C123        S  \n",
       "4      0            373450   8.0500   NaN        S  "
      ]
     },
     "metadata": {},
     "output_type": "display_data"
    },
    {
     "name": "stdout",
     "output_type": "stream",
     "text": [
      "<class 'pandas.core.frame.DataFrame'>\n",
      "RangeIndex: 891 entries, 0 to 890\n",
      "Data columns (total 12 columns):\n",
      " #   Column       Non-Null Count  Dtype  \n",
      "---  ------       --------------  -----  \n",
      " 0   PassengerId  891 non-null    int64  \n",
      " 1   Survived     891 non-null    int64  \n",
      " 2   Pclass       891 non-null    int64  \n",
      " 3   Name         891 non-null    object \n",
      " 4   Sex          891 non-null    object \n",
      " 5   Age          714 non-null    float64\n",
      " 6   SibSp        891 non-null    int64  \n",
      " 7   Parch        891 non-null    int64  \n",
      " 8   Ticket       891 non-null    object \n",
      " 9   Fare         891 non-null    float64\n",
      " 10  Cabin        204 non-null    object \n",
      " 11  Embarked     889 non-null    object \n",
      "dtypes: float64(2), int64(5), object(5)\n",
      "memory usage: 83.7+ KB\n",
      "None\n",
      "<class 'pandas.core.frame.DataFrame'>\n",
      "RangeIndex: 891 entries, 0 to 890\n",
      "Data columns (total 12 columns):\n",
      " #   Column       Non-Null Count  Dtype  \n",
      "---  ------       --------------  -----  \n",
      " 0   PassengerId  891 non-null    int64  \n",
      " 1   Survived     891 non-null    int64  \n",
      " 2   Pclass       891 non-null    int64  \n",
      " 3   Name         891 non-null    object \n",
      " 4   Sex          891 non-null    object \n",
      " 5   Age          714 non-null    float64\n",
      " 6   SibSp        891 non-null    int64  \n",
      " 7   Parch        891 non-null    int64  \n",
      " 8   Ticket       891 non-null    object \n",
      " 9   Fare         891 non-null    float64\n",
      " 10  Cabin        204 non-null    object \n",
      " 11  Embarked     889 non-null    object \n",
      "dtypes: float64(2), int64(5), object(5)\n",
      "memory usage: 83.7+ KB\n",
      "None\n",
      "       PassengerId    Survived      Pclass         Age       SibSp  \\\n",
      "count   891.000000  891.000000  891.000000  714.000000  891.000000   \n",
      "mean    446.000000    0.383838    2.308642   29.699118    0.523008   \n",
      "std     257.353842    0.486592    0.836071   14.526497    1.102743   \n",
      "min       1.000000    0.000000    1.000000    0.420000    0.000000   \n",
      "25%     223.500000    0.000000    2.000000   20.125000    0.000000   \n",
      "50%     446.000000    0.000000    3.000000   28.000000    0.000000   \n",
      "75%     668.500000    1.000000    3.000000   38.000000    1.000000   \n",
      "max     891.000000    1.000000    3.000000   80.000000    8.000000   \n",
      "\n",
      "            Parch        Fare  \n",
      "count  891.000000  891.000000  \n",
      "mean     0.381594   32.204208  \n",
      "std      0.806057   49.693429  \n",
      "min      0.000000    0.000000  \n",
      "25%      0.000000    7.910400  \n",
      "50%      0.000000   14.454200  \n",
      "75%      0.000000   31.000000  \n",
      "max      6.000000  512.329200  \n"
     ]
    }
   ],
   "source": [
    "display(train.head())\n",
    "print(train.info())\n",
    "print(train.describe())"
   ]
  },
  {
   "cell_type": "code",
   "execution_count": 57,
   "metadata": {
    "execution": {
     "iopub.execute_input": "2023-03-16T22:16:41.523832Z",
     "iopub.status.busy": "2023-03-16T22:16:41.522263Z",
     "iopub.status.idle": "2023-03-16T22:16:41.706269Z",
     "shell.execute_reply": "2023-03-16T22:16:41.704428Z",
     "shell.execute_reply.started": "2023-03-16T22:16:41.523778Z"
    }
   },
   "outputs": [
    {
     "data": {
      "image/png": "[encoded data removed]",
      "text/plain": [
       "<Figure size 432x288 with 1 Axes>"
      ]
     },
     "metadata": {
      "needs_background": "light"
     },
     "output_type": "display_data"
    },
    {
     "name": "stdout",
     "output_type": "stream",
     "text": [
      "0    0.616162\n",
      "1    0.383838\n",
      "Name: Survived, dtype: float64\n"
     ]
    }
   ],
   "source": [
    "# Visualize with a countplot\n",
    "sns.countplot(x=\"Survived\", data=train)\n",
    "plt.show()\n",
    "\n",
    "# Print the proportions\n",
    "print(train[\"Survived\"].value_counts(normalize=1))"
   ]
  },
  {
   "cell_type": "code",
   "execution_count": 58,
   "metadata": {
    "execution": {
     "iopub.execute_input": "2023-03-16T22:16:42.820546Z",
     "iopub.status.busy": "2023-03-16T22:16:42.819847Z",
     "iopub.status.idle": "2023-03-16T22:16:43.202749Z",
     "shell.execute_reply": "2023-03-16T22:16:43.201790Z",
     "shell.execute_reply.started": "2023-03-16T22:16:42.820507Z"
    }
   },
   "outputs": [
    {
     "data": {
      "image/png": "[encoded data removed]",
      "text/plain": [
       "<Figure size 432x288 with 1 Axes>"
      ]
     },
     "metadata": {
      "needs_background": "light"
     },
     "output_type": "display_data"
    }
   ],
   "source": [
    "# Visualize with a countplot\n",
    "sns.countplot(x=\"Pclass\", hue=\"Survived\", data=train)\n",
    "plt.show()\n",
    "\n"
   ]
  },
  {
   "cell_type": "code",
   "execution_count": 59,
   "metadata": {
    "execution": {
     "iopub.execute_input": "2023-03-16T22:16:43.970402Z",
     "iopub.status.busy": "2023-03-16T22:16:43.969650Z",
     "iopub.status.idle": "2023-03-16T22:16:43.978652Z",
     "shell.execute_reply": "2023-03-16T22:16:43.977063Z",
     "shell.execute_reply.started": "2023-03-16T22:16:43.970352Z"
    }
   },
   "outputs": [
    {
     "name": "stdout",
     "output_type": "stream",
     "text": [
      "177\n"
     ]
    }
   ],
   "source": [
    "# Print the missing values in Age column\n",
    "print(train[\"Age\"].isnull().sum())"
   ]
  },
  {
   "cell_type": "code",
   "execution_count": 60,
   "metadata": {
    "execution": {
     "iopub.execute_input": "2023-03-16T22:16:45.038224Z",
     "iopub.status.busy": "2023-03-16T22:16:45.037747Z",
     "iopub.status.idle": "2023-03-16T22:16:45.312233Z",
     "shell.execute_reply": "2023-03-16T22:16:45.310562Z",
     "shell.execute_reply.started": "2023-03-16T22:16:45.038188Z"
    }
   },
   "outputs": [
    {
     "name": "stderr",
     "output_type": "stream",
     "text": [
      "/opt/conda/lib/python3.7/site-packages/seaborn/distributions.py:2619: FutureWarning: `distplot` is a deprecated function and will be removed in a future version. Please adapt your code to use either `displot` (a figure-level function with similar flexibility) or `histplot` (an axes-level function for histograms).\n",
      "  warnings.warn(msg, FutureWarning)\n",
      "/opt/conda/lib/python3.7/site-packages/seaborn/distributions.py:2619: FutureWarning: `distplot` is a deprecated function and will be removed in a future version. Please adapt your code to use either `displot` (a figure-level function with similar flexibility) or `histplot` (an axes-level function for histograms).\n",
      "  warnings.warn(msg, FutureWarning)\n"
     ]
    },
    {
     "data": {
      "image/png": "[encoded data removed]",
      "text/plain": [
       "<Figure size 432x288 with 1 Axes>"
      ]
     },
     "metadata": {
      "needs_background": "light"
     },
     "output_type": "display_data"
    }
   ],
   "source": [
    "# Survived by age\n",
    "sns.distplot(train[train.Survived==1][\"Age\"],color=\"y\", bins=7)\n",
    "\n",
    "# Death by age\n",
    "sns.distplot(train[train.Survived==0][\"Age\"], bins=7)\n",
    "plt.title(\"Age Distribution\")\n",
    "plt.show()"
   ]
  },
  {
   "cell_type": "code",
   "execution_count": 61,
   "metadata": {
    "execution": {
     "iopub.execute_input": "2023-03-16T22:16:46.491457Z",
     "iopub.status.busy": "2023-03-16T22:16:46.490993Z",
     "iopub.status.idle": "2023-03-16T22:16:46.705550Z",
     "shell.execute_reply": "2023-03-16T22:16:46.704189Z",
     "shell.execute_reply.started": "2023-03-16T22:16:46.491421Z"
    }
   },
   "outputs": [
    {
     "data": {
      "image/png": "[encoded data removed]",
      "text/plain": [
       "<Figure size 432x288 with 1 Axes>"
      ]
     },
     "metadata": {
      "needs_background": "light"
     },
     "output_type": "display_data"
    },
    {
     "name": "stdout",
     "output_type": "stream",
     "text": [
      "Sex\n",
      "female    0.742038\n",
      "male      0.188908\n",
      "Name: Survived, dtype: float64\n",
      "male      577\n",
      "female    314\n",
      "Name: Sex, dtype: int64\n"
     ]
    }
   ],
   "source": [
    "# Visualize with a countplot\n",
    "sns.countplot(x=\"Sex\", hue=\"Survived\", data=train)\n",
    "plt.show()\n",
    "\n",
    "# Proportion of people survived for each class\n",
    "print(train[\"Survived\"].groupby(train[\"Sex\"]).mean())\n",
    "\n",
    "# How many people we have in each class?\n",
    "print(train[\"Sex\"].value_counts())"
   ]
  },
  {
   "cell_type": "code",
   "execution_count": 62,
   "metadata": {
    "execution": {
     "iopub.execute_input": "2023-03-16T22:16:47.973645Z",
     "iopub.status.busy": "2023-03-16T22:16:47.972919Z",
     "iopub.status.idle": "2023-03-16T22:16:48.306401Z",
     "shell.execute_reply": "2023-03-16T22:16:48.305113Z",
     "shell.execute_reply.started": "2023-03-16T22:16:47.973594Z"
    }
   },
   "outputs": [
    {
     "name": "stderr",
     "output_type": "stream",
     "text": [
      "/opt/conda/lib/python3.7/site-packages/seaborn/distributions.py:2619: FutureWarning: `distplot` is a deprecated function and will be removed in a future version. Please adapt your code to use either `displot` (a figure-level function with similar flexibility) or `histplot` (an axes-level function for histograms).\n",
      "  warnings.warn(msg, FutureWarning)\n"
     ]
    },
    {
     "data": {
      "image/png": "[encoded data removed]",
      "text/plain": [
       "<Figure size 432x288 with 1 Axes>"
      ]
     },
     "metadata": {
      "needs_background": "light"
     },
     "output_type": "display_data"
    }
   ],
   "source": [
    "sns.distplot(train[\"Fare\"])\n",
    "plt.show()"
   ]
  },
  {
   "cell_type": "code",
   "execution_count": 63,
   "metadata": {
    "execution": {
     "iopub.execute_input": "2023-03-16T22:16:49.359304Z",
     "iopub.status.busy": "2023-03-16T22:16:49.358530Z",
     "iopub.status.idle": "2023-03-16T22:16:49.591086Z",
     "shell.execute_reply": "2023-03-16T22:16:49.590116Z",
     "shell.execute_reply.started": "2023-03-16T22:16:49.359227Z"
    }
   },
   "outputs": [
    {
     "data": {
      "image/png": "[encoded data removed]",
      "text/plain": [
       "<Figure size 432x288 with 1 Axes>"
      ]
     },
     "metadata": {
      "needs_background": "light"
     },
     "output_type": "display_data"
    }
   ],
   "source": [
    "# Make a countplot\n",
    "sns.countplot(x=\"Embarked\", hue=\"Survived\", data=train)\n",
    "plt.show()\n"
   ]
  },
  {
   "cell_type": "markdown",
   "metadata": {},
   "source": [
    "**Feature Engineering**"
   ]
  },
  {
   "cell_type": "code",
   "execution_count": 64,
   "metadata": {
    "execution": {
     "iopub.execute_input": "2023-03-16T22:16:57.196816Z",
     "iopub.status.busy": "2023-03-16T22:16:57.196350Z",
     "iopub.status.idle": "2023-03-16T22:16:57.214195Z",
     "shell.execute_reply": "2023-03-16T22:16:57.212395Z",
     "shell.execute_reply.started": "2023-03-16T22:16:57.196777Z"
    }
   },
   "outputs": [
    {
     "name": "stdout",
     "output_type": "stream",
     "text": [
      "<class 'pandas.core.frame.DataFrame'>\n",
      "RangeIndex: 418 entries, 0 to 417\n",
      "Data columns (total 11 columns):\n",
      " #   Column       Non-Null Count  Dtype  \n",
      "---  ------       --------------  -----  \n",
      " 0   PassengerId  418 non-null    int64  \n",
      " 1   Pclass       418 non-null    int64  \n",
      " 2   Name         418 non-null    object \n",
      " 3   Sex          418 non-null    object \n",
      " 4   Age          332 non-null    float64\n",
      " 5   SibSp        418 non-null    int64  \n",
      " 6   Parch        418 non-null    int64  \n",
      " 7   Ticket       418 non-null    object \n",
      " 8   Fare         417 non-null    float64\n",
      " 9   Cabin        91 non-null     object \n",
      " 10  Embarked     418 non-null    object \n",
      "dtypes: float64(2), int64(4), object(5)\n",
      "memory usage: 36.0+ KB\n",
      "None\n"
     ]
    }
   ],
   "source": [
    "print(test.info())"
   ]
  },
  {
   "cell_type": "code",
   "execution_count": 65,
   "metadata": {
    "execution": {
     "iopub.execute_input": "2023-03-16T22:16:58.355536Z",
     "iopub.status.busy": "2023-03-16T22:16:58.354976Z",
     "iopub.status.idle": "2023-03-16T22:16:58.363714Z",
     "shell.execute_reply": "2023-03-16T22:16:58.362367Z",
     "shell.execute_reply.started": "2023-03-16T22:16:58.355488Z"
    }
   },
   "outputs": [],
   "source": [
    "# Put the mean into the missing value\n",
    "test['Fare'].fillna(train['Fare'].mean(), inplace = True)"
   ]
  },
  {
   "cell_type": "code",
   "execution_count": 1,
   "metadata": {
    "execution": {
     "iopub.execute_input": "2023-03-16T22:17:01.742765Z",
     "iopub.status.busy": "2023-03-16T22:17:01.741345Z",
     "iopub.status.idle": "2023-03-16T22:17:01.764514Z",
     "shell.execute_reply": "2023-03-16T22:17:01.763070Z",
     "shell.execute_reply.started": "2023-03-16T22:17:01.742720Z"
    }
   },
   "outputs": [
    {
     "ename": "NameError",
     "evalue": "name 'np' is not defined",
     "output_type": "error",
     "traceback": [
      "\u001b[1;31m---------------------------------------------------------------------------\u001b[0m",
      "\u001b[1;31mNameError\u001b[0m                                 Traceback (most recent call last)",
      "Input \u001b[1;32mIn [1]\u001b[0m, in \u001b[0;36m<cell line: 6>\u001b[1;34m()\u001b[0m\n\u001b[0;32m      3\u001b[0m \u001b[38;5;28;01mfrom\u001b[39;00m \u001b[38;5;21;01msklearn\u001b[39;00m\u001b[38;5;21;01m.\u001b[39;00m\u001b[38;5;21;01mimpute\u001b[39;00m \u001b[38;5;28;01mimport\u001b[39;00m IterativeImputer\n\u001b[0;32m      5\u001b[0m \u001b[38;5;66;03m# Imputers\u001b[39;00m\n\u001b[1;32m----> 6\u001b[0m imp_embarked \u001b[38;5;241m=\u001b[39m SimpleImputer(missing_values\u001b[38;5;241m=\u001b[39m\u001b[43mnp\u001b[49m\u001b[38;5;241m.\u001b[39mnan, strategy\u001b[38;5;241m=\u001b[39m\u001b[38;5;124m\"\u001b[39m\u001b[38;5;124mmost_frequent\u001b[39m\u001b[38;5;124m\"\u001b[39m)\n\u001b[0;32m      7\u001b[0m imp_age \u001b[38;5;241m=\u001b[39m IterativeImputer(max_iter\u001b[38;5;241m=\u001b[39m\u001b[38;5;241m100\u001b[39m, random_state\u001b[38;5;241m=\u001b[39m\u001b[38;5;241m34\u001b[39m, n_nearest_features\u001b[38;5;241m=\u001b[39m\u001b[38;5;241m2\u001b[39m)\n\u001b[0;32m      9\u001b[0m \u001b[38;5;66;03m# Impute Embarked\u001b[39;00m\n",
      "\u001b[1;31mNameError\u001b[0m: name 'np' is not defined"
     ]
    }
   ],
   "source": [
    "from sklearn.impute import SimpleImputer\n",
    "from sklearn.experimental import enable_iterative_imputer\n",
    "from sklearn.impute import IterativeImputer\n",
    "\n",
    "# Imputers\n",
    "imp_embarked = SimpleImputer(missing_values=np.nan, strategy=\"most_frequent\")\n",
    "imp_age = IterativeImputer(max_iter=100, random_state=34, n_nearest_features=2)\n",
    "\n",
    "# Impute Embarked\n",
    "train[\"Embarked\"] = imp_embarked.fit_transform(train[[\"Embarked\"]])\n",
    "test[\"Embarked\"] = imp_embarked.transform(test[[\"Embarked\"]])\n",
    "\n",
    "# Impute Age\n",
    "train[\"Age\"] = np.round(imp_age.fit_transform(train[[\"Age\"]]))\n",
    "test[\"Age\"] = np.round(imp_age.transform(test[[\"Age\"]]))"
   ]
  },
  {
   "cell_type": "code",
   "execution_count": 67,
   "metadata": {
    "execution": {
     "iopub.execute_input": "2023-03-16T22:17:03.341748Z",
     "iopub.status.busy": "2023-03-16T22:17:03.341286Z",
     "iopub.status.idle": "2023-03-16T22:17:03.354204Z",
     "shell.execute_reply": "2023-03-16T22:17:03.352443Z",
     "shell.execute_reply.started": "2023-03-16T22:17:03.341714Z"
    }
   },
   "outputs": [
    {
     "data": {
      "text/plain": [
       "0      22.0\n",
       "1      38.0\n",
       "2      26.0\n",
       "3      35.0\n",
       "4      35.0\n",
       "       ... \n",
       "886    27.0\n",
       "887    19.0\n",
       "888    30.0\n",
       "889    26.0\n",
       "890    32.0\n",
       "Name: Age, Length: 891, dtype: float64"
      ]
     },
     "execution_count": 67,
     "metadata": {},
     "output_type": "execute_result"
    }
   ],
   "source": [
    "train[\"Age\"]"
   ]
  },
  {
   "cell_type": "code",
   "execution_count": 68,
   "metadata": {
    "execution": {
     "iopub.execute_input": "2023-03-16T22:17:04.258843Z",
     "iopub.status.busy": "2023-03-16T22:17:04.257341Z",
     "iopub.status.idle": "2023-03-16T22:17:04.270035Z",
     "shell.execute_reply": "2023-03-16T22:17:04.268102Z",
     "shell.execute_reply.started": "2023-03-16T22:17:04.258799Z"
    }
   },
   "outputs": [
    {
     "name": "stderr",
     "output_type": "stream",
     "text": [
      "/opt/conda/lib/python3.7/site-packages/sklearn/preprocessing/_label.py:115: DataConversionWarning: A column-vector y was passed when a 1d array was expected. Please change the shape of y to (n_samples, ), for example using ravel().\n",
      "  y = column_or_1d(y, warn=True)\n"
     ]
    }
   ],
   "source": [
    "from sklearn.preprocessing import LabelEncoder\n",
    "\n",
    "# Initialize a Label Encoder\n",
    "le = LabelEncoder()\n",
    "\n",
    "# Encode Sex\n",
    "train[\"Sex\"] = le.fit_transform(train[[\"Sex\"]])\n",
    "test[\"Sex\"] = le.fit_transform(test[[\"Sex\"]])"
   ]
  },
  {
   "cell_type": "code",
   "execution_count": 69,
   "metadata": {
    "execution": {
     "iopub.execute_input": "2023-03-16T22:17:05.221900Z",
     "iopub.status.busy": "2023-03-16T22:17:05.221386Z",
     "iopub.status.idle": "2023-03-16T22:17:05.231942Z",
     "shell.execute_reply": "2023-03-16T22:17:05.230698Z",
     "shell.execute_reply.started": "2023-03-16T22:17:05.221857Z"
    }
   },
   "outputs": [
    {
     "data": {
      "text/plain": [
       "0      1\n",
       "1      0\n",
       "2      0\n",
       "3      0\n",
       "4      1\n",
       "      ..\n",
       "886    1\n",
       "887    0\n",
       "888    0\n",
       "889    1\n",
       "890    1\n",
       "Name: Sex, Length: 891, dtype: int64"
      ]
     },
     "execution_count": 69,
     "metadata": {},
     "output_type": "execute_result"
    }
   ],
   "source": [
    "train[\"Sex\"]"
   ]
  },
  {
   "cell_type": "code",
   "execution_count": 70,
   "metadata": {
    "execution": {
     "iopub.execute_input": "2023-03-16T22:17:06.014922Z",
     "iopub.status.busy": "2023-03-16T22:17:06.014396Z",
     "iopub.status.idle": "2023-03-16T22:17:06.024529Z",
     "shell.execute_reply": "2023-03-16T22:17:06.022910Z",
     "shell.execute_reply.started": "2023-03-16T22:17:06.014879Z"
    }
   },
   "outputs": [],
   "source": [
    "# Family Size\n",
    "train[\"Fsize\"] = train[\"SibSp\"] + train[\"Parch\"]\n",
    "test[\"Fsize\"] = test[\"SibSp\"] + test[\"Parch\"]"
   ]
  },
  {
   "cell_type": "code",
   "execution_count": 71,
   "metadata": {
    "execution": {
     "iopub.execute_input": "2023-03-16T22:17:11.700097Z",
     "iopub.status.busy": "2023-03-16T22:17:11.699632Z",
     "iopub.status.idle": "2023-03-16T22:17:11.712838Z",
     "shell.execute_reply": "2023-03-16T22:17:11.711317Z",
     "shell.execute_reply.started": "2023-03-16T22:17:11.700062Z"
    }
   },
   "outputs": [
    {
     "data": {
      "text/plain": [
       "(0      1\n",
       " 1      1\n",
       " 2      0\n",
       " 3      1\n",
       " 4      0\n",
       "       ..\n",
       " 886    0\n",
       " 887    0\n",
       " 888    3\n",
       " 889    0\n",
       " 890    0\n",
       " Name: Fsize, Length: 891, dtype: int64,\n",
       " 0      1\n",
       " 1      1\n",
       " 2      0\n",
       " 3      1\n",
       " 4      0\n",
       "       ..\n",
       " 886    0\n",
       " 887    0\n",
       " 888    1\n",
       " 889    0\n",
       " 890    0\n",
       " Name: SibSp, Length: 891, dtype: int64,\n",
       " 0      0\n",
       " 1      0\n",
       " 2      0\n",
       " 3      0\n",
       " 4      0\n",
       "       ..\n",
       " 886    0\n",
       " 887    0\n",
       " 888    2\n",
       " 889    0\n",
       " 890    0\n",
       " Name: Parch, Length: 891, dtype: int64)"
      ]
     },
     "execution_count": 71,
     "metadata": {},
     "output_type": "execute_result"
    }
   ],
   "source": [
    "train[\"Fsize\"] ,train[\"SibSp\"] ,train[\"Parch\"]"
   ]
  },
  {
   "cell_type": "code",
   "execution_count": 72,
   "metadata": {
    "execution": {
     "iopub.execute_input": "2023-03-16T22:17:12.756369Z",
     "iopub.status.busy": "2023-03-16T22:17:12.755872Z",
     "iopub.status.idle": "2023-03-16T22:17:12.767216Z",
     "shell.execute_reply": "2023-03-16T22:17:12.765600Z",
     "shell.execute_reply.started": "2023-03-16T22:17:12.756331Z"
    }
   },
   "outputs": [
    {
     "data": {
      "text/plain": [
       "0             A/5 21171\n",
       "1              PC 17599\n",
       "2      STON/O2. 3101282\n",
       "3                113803\n",
       "4                373450\n",
       "             ...       \n",
       "886              211536\n",
       "887              112053\n",
       "888          W./C. 6607\n",
       "889              111369\n",
       "890              370376\n",
       "Name: Ticket, Length: 891, dtype: object"
      ]
     },
     "execution_count": 72,
     "metadata": {},
     "output_type": "execute_result"
    }
   ],
   "source": [
    "train[\"Ticket\"]"
   ]
  },
  {
   "cell_type": "code",
   "execution_count": 73,
   "metadata": {
    "execution": {
     "iopub.execute_input": "2023-03-16T22:17:13.486773Z",
     "iopub.status.busy": "2023-03-16T22:17:13.486216Z",
     "iopub.status.idle": "2023-03-16T22:17:13.498598Z",
     "shell.execute_reply": "2023-03-16T22:17:13.497096Z",
     "shell.execute_reply.started": "2023-03-16T22:17:13.486713Z"
    }
   },
   "outputs": [],
   "source": [
    "# Ticket first letters\n",
    "train[\"Ticket\"] = train[\"Ticket\"].apply(lambda x: str(x)[0])\n",
    "test[\"Ticket\"] = test[\"Ticket\"].apply(lambda x: str(x)[0])\n",
    "\n",
    "# Cabin first letters\n",
    "train[\"Cabin\"] = train[\"Cabin\"].apply(lambda x: str(x)[0])\n",
    "test[\"Cabin\"] = test[\"Cabin\"].apply(lambda x: str(x)[0])\n"
   ]
  },
  {
   "cell_type": "code",
   "execution_count": 74,
   "metadata": {
    "execution": {
     "iopub.execute_input": "2023-03-16T22:17:14.564837Z",
     "iopub.status.busy": "2023-03-16T22:17:14.564418Z",
     "iopub.status.idle": "2023-03-16T22:17:14.573914Z",
     "shell.execute_reply": "2023-03-16T22:17:14.572974Z",
     "shell.execute_reply.started": "2023-03-16T22:17:14.564805Z"
    }
   },
   "outputs": [
    {
     "data": {
      "text/plain": [
       "0      n\n",
       "1      C\n",
       "2      n\n",
       "3      C\n",
       "4      n\n",
       "      ..\n",
       "886    n\n",
       "887    B\n",
       "888    n\n",
       "889    C\n",
       "890    n\n",
       "Name: Cabin, Length: 891, dtype: object"
      ]
     },
     "execution_count": 74,
     "metadata": {},
     "output_type": "execute_result"
    }
   ],
   "source": [
    "train[\"Cabin\"]"
   ]
  },
  {
   "cell_type": "code",
   "execution_count": 75,
   "metadata": {
    "execution": {
     "iopub.execute_input": "2023-03-16T22:17:15.587514Z",
     "iopub.status.busy": "2023-03-16T22:17:15.586845Z",
     "iopub.status.idle": "2023-03-16T22:17:15.596611Z",
     "shell.execute_reply": "2023-03-16T22:17:15.595339Z",
     "shell.execute_reply.started": "2023-03-16T22:17:15.587459Z"
    }
   },
   "outputs": [
    {
     "data": {
      "text/plain": [
       "0                                Braund, Mr. Owen Harris\n",
       "1      Cumings, Mrs. John Bradley (Florence Briggs Th...\n",
       "2                                 Heikkinen, Miss. Laina\n",
       "3           Futrelle, Mrs. Jacques Heath (Lily May Peel)\n",
       "4                               Allen, Mr. William Henry\n",
       "                             ...                        \n",
       "886                                Montvila, Rev. Juozas\n",
       "887                         Graham, Miss. Margaret Edith\n",
       "888             Johnston, Miss. Catherine Helen \"Carrie\"\n",
       "889                                Behr, Mr. Karl Howell\n",
       "890                                  Dooley, Mr. Patrick\n",
       "Name: Name, Length: 891, dtype: object"
      ]
     },
     "execution_count": 75,
     "metadata": {},
     "output_type": "execute_result"
    }
   ],
   "source": [
    "train['Name']"
   ]
  },
  {
   "cell_type": "code",
   "execution_count": 76,
   "metadata": {
    "execution": {
     "iopub.execute_input": "2023-03-16T22:17:16.685747Z",
     "iopub.status.busy": "2023-03-16T22:17:16.685297Z",
     "iopub.status.idle": "2023-03-16T22:17:16.703201Z",
     "shell.execute_reply": "2023-03-16T22:17:16.701759Z",
     "shell.execute_reply.started": "2023-03-16T22:17:16.685713Z"
    }
   },
   "outputs": [],
   "source": [
    "train[\"Title\"] = train['Name'].str.split(', ', expand=True)[1].str.split('.', expand=True)[0]\n",
    "test[\"Title\"] = test['Name'].str.split(', ', expand=True)[1].str.split('.', expand=True)[0]"
   ]
  },
  {
   "cell_type": "code",
   "execution_count": 77,
   "metadata": {
    "execution": {
     "iopub.execute_input": "2023-03-16T22:17:18.014762Z",
     "iopub.status.busy": "2023-03-16T22:17:18.014212Z",
     "iopub.status.idle": "2023-03-16T22:17:18.026034Z",
     "shell.execute_reply": "2023-03-16T22:17:18.024743Z",
     "shell.execute_reply.started": "2023-03-16T22:17:18.014719Z"
    }
   },
   "outputs": [
    {
     "data": {
      "text/plain": [
       "0        Mr\n",
       "1       Mrs\n",
       "2      Miss\n",
       "3       Mrs\n",
       "4        Mr\n",
       "       ... \n",
       "886     Rev\n",
       "887    Miss\n",
       "888    Miss\n",
       "889      Mr\n",
       "890      Mr\n",
       "Name: Title, Length: 891, dtype: object"
      ]
     },
     "execution_count": 77,
     "metadata": {},
     "output_type": "execute_result"
    }
   ],
   "source": [
    "train[\"Title\"] "
   ]
  },
  {
   "cell_type": "code",
   "execution_count": 78,
   "metadata": {
    "execution": {
     "iopub.execute_input": "2023-03-16T22:17:21.404275Z",
     "iopub.status.busy": "2023-03-16T22:17:21.403226Z",
     "iopub.status.idle": "2023-03-16T22:17:21.412326Z",
     "shell.execute_reply": "2023-03-16T22:17:21.410676Z",
     "shell.execute_reply.started": "2023-03-16T22:17:21.404188Z"
    }
   },
   "outputs": [],
   "source": [
    "# Group the family_size column\n",
    "def assign_passenger_label(family_size):\n",
    "    if family_size == 0:\n",
    "        return \"Alone\"\n",
    "    elif family_size <=3:\n",
    "        return \"Small_family\"\n",
    "    else:\n",
    "        return \"Big_family\"\n",
    "    \n"
   ]
  },
  {
   "cell_type": "code",
   "execution_count": 79,
   "metadata": {
    "execution": {
     "iopub.execute_input": "2023-03-16T22:17:22.727137Z",
     "iopub.status.busy": "2023-03-16T22:17:22.726652Z",
     "iopub.status.idle": "2023-03-16T22:17:22.734799Z",
     "shell.execute_reply": "2023-03-16T22:17:22.733077Z",
     "shell.execute_reply.started": "2023-03-16T22:17:22.727102Z"
    }
   },
   "outputs": [],
   "source": [
    "# Group the Ticket column\n",
    "def assign_label_ticket(first):\n",
    "    if first in [\"F\", \"1\", \"P\", \"9\"]:\n",
    "        return \"Ticket_high\"\n",
    "    elif first in [\"S\", \"C\", \"2\"]:\n",
    "        return \"Ticket_middle\"\n",
    "    else:\n",
    "        return \"Ticket_low\"\n",
    "    \n"
   ]
  },
  {
   "cell_type": "code",
   "execution_count": 80,
   "metadata": {
    "execution": {
     "iopub.execute_input": "2023-03-16T22:17:23.989424Z",
     "iopub.status.busy": "2023-03-16T22:17:23.988957Z",
     "iopub.status.idle": "2023-03-16T22:17:23.996464Z",
     "shell.execute_reply": "2023-03-16T22:17:23.995228Z",
     "shell.execute_reply.started": "2023-03-16T22:17:23.989390Z"
    }
   },
   "outputs": [],
   "source": [
    "# Group the Title column    \n",
    "def assign_label_title(title):\n",
    "    if title in [\"the Countess\", \"Mlle\", \"Lady\", \"Ms\", \"Sir\", \"Mme\", \"Mrs\", \"Miss\", \"Master\"]:\n",
    "        return \"Title_high\"\n",
    "    elif title in [\"Major\", \"Col\", \"Dr\"]:\n",
    "        return \"Title_middle\"\n",
    "    else:\n",
    "        return \"Title_low\"\n"
   ]
  },
  {
   "cell_type": "code",
   "execution_count": 81,
   "metadata": {
    "execution": {
     "iopub.execute_input": "2023-03-16T22:17:25.119086Z",
     "iopub.status.busy": "2023-03-16T22:17:25.118265Z",
     "iopub.status.idle": "2023-03-16T22:17:25.125494Z",
     "shell.execute_reply": "2023-03-16T22:17:25.124041Z",
     "shell.execute_reply.started": "2023-03-16T22:17:25.119039Z"
    }
   },
   "outputs": [],
   "source": [
    "    \n",
    "# Group the Cabin column  \n",
    "def assign_label_cabin(cabin):\n",
    "    if cabin in [\"D\", \"E\", \"B\", \"F\", \"C\"]:\n",
    "        return \"Cabin_high\"\n",
    "    elif cabin in [\"G\", \"A\"]:\n",
    "        return \"Cabin_middle\"\n",
    "    else:\n",
    "        return \"Cabin_low\""
   ]
  },
  {
   "cell_type": "code",
   "execution_count": 82,
   "metadata": {
    "execution": {
     "iopub.execute_input": "2023-03-16T22:17:26.089777Z",
     "iopub.status.busy": "2023-03-16T22:17:26.089319Z",
     "iopub.status.idle": "2023-03-16T22:17:26.099075Z",
     "shell.execute_reply": "2023-03-16T22:17:26.097338Z",
     "shell.execute_reply.started": "2023-03-16T22:17:26.089742Z"
    }
   },
   "outputs": [],
   "source": [
    "# Family size\n",
    "train[\"Fsize\"] = train[\"Fsize\"].apply(assign_passenger_label)\n",
    "test[\"Fsize\"] = test[\"Fsize\"].apply(assign_passenger_label)\n"
   ]
  },
  {
   "cell_type": "code",
   "execution_count": 83,
   "metadata": {
    "execution": {
     "iopub.execute_input": "2023-03-16T22:17:27.703904Z",
     "iopub.status.busy": "2023-03-16T22:17:27.703426Z",
     "iopub.status.idle": "2023-03-16T22:17:27.716500Z",
     "shell.execute_reply": "2023-03-16T22:17:27.714735Z",
     "shell.execute_reply.started": "2023-03-16T22:17:27.703867Z"
    }
   },
   "outputs": [
    {
     "data": {
      "text/plain": [
       "0      Small_family\n",
       "1      Small_family\n",
       "2             Alone\n",
       "3      Small_family\n",
       "4             Alone\n",
       "           ...     \n",
       "886           Alone\n",
       "887           Alone\n",
       "888    Small_family\n",
       "889           Alone\n",
       "890           Alone\n",
       "Name: Fsize, Length: 891, dtype: object"
      ]
     },
     "execution_count": 83,
     "metadata": {},
     "output_type": "execute_result"
    }
   ],
   "source": [
    "train[\"Fsize\"]"
   ]
  },
  {
   "cell_type": "code",
   "execution_count": 84,
   "metadata": {
    "execution": {
     "iopub.execute_input": "2023-03-16T22:17:30.227966Z",
     "iopub.status.busy": "2023-03-16T22:17:30.227504Z",
     "iopub.status.idle": "2023-03-16T22:17:30.236070Z",
     "shell.execute_reply": "2023-03-16T22:17:30.235084Z",
     "shell.execute_reply.started": "2023-03-16T22:17:30.227928Z"
    }
   },
   "outputs": [],
   "source": [
    "# Ticket\n",
    "train[\"Ticket\"] = train[\"Ticket\"].apply(assign_label_ticket)\n",
    "test[\"Ticket\"] = test[\"Ticket\"].apply(assign_label_ticket)\n"
   ]
  },
  {
   "cell_type": "code",
   "execution_count": 85,
   "metadata": {
    "execution": {
     "iopub.execute_input": "2023-03-16T22:17:31.924933Z",
     "iopub.status.busy": "2023-03-16T22:17:31.924219Z",
     "iopub.status.idle": "2023-03-16T22:17:31.933088Z",
     "shell.execute_reply": "2023-03-16T22:17:31.931657Z",
     "shell.execute_reply.started": "2023-03-16T22:17:31.924888Z"
    }
   },
   "outputs": [
    {
     "data": {
      "text/plain": [
       "0         Ticket_low\n",
       "1        Ticket_high\n",
       "2      Ticket_middle\n",
       "3        Ticket_high\n",
       "4         Ticket_low\n",
       "           ...      \n",
       "886    Ticket_middle\n",
       "887      Ticket_high\n",
       "888       Ticket_low\n",
       "889      Ticket_high\n",
       "890       Ticket_low\n",
       "Name: Ticket, Length: 891, dtype: object"
      ]
     },
     "execution_count": 85,
     "metadata": {},
     "output_type": "execute_result"
    }
   ],
   "source": [
    "train[\"Ticket\"]"
   ]
  },
  {
   "cell_type": "code",
   "execution_count": 86,
   "metadata": {
    "execution": {
     "iopub.execute_input": "2023-03-16T22:17:33.312030Z",
     "iopub.status.busy": "2023-03-16T22:17:33.311558Z",
     "iopub.status.idle": "2023-03-16T22:17:33.320651Z",
     "shell.execute_reply": "2023-03-16T22:17:33.318984Z",
     "shell.execute_reply.started": "2023-03-16T22:17:33.311994Z"
    }
   },
   "outputs": [],
   "source": [
    "\n",
    "# Title\n",
    "train[\"Title\"] = train[\"Title\"].apply(assign_label_title)\n",
    "test[\"Title\"] = test[\"Title\"].apply(assign_label_title)\n",
    "\n"
   ]
  },
  {
   "cell_type": "code",
   "execution_count": 87,
   "metadata": {
    "execution": {
     "iopub.execute_input": "2023-03-16T22:17:35.594659Z",
     "iopub.status.busy": "2023-03-16T22:17:35.594212Z",
     "iopub.status.idle": "2023-03-16T22:17:35.605922Z",
     "shell.execute_reply": "2023-03-16T22:17:35.604650Z",
     "shell.execute_reply.started": "2023-03-16T22:17:35.594626Z"
    }
   },
   "outputs": [
    {
     "data": {
      "text/plain": [
       "0       Title_low\n",
       "1      Title_high\n",
       "2      Title_high\n",
       "3      Title_high\n",
       "4       Title_low\n",
       "          ...    \n",
       "886     Title_low\n",
       "887    Title_high\n",
       "888    Title_high\n",
       "889     Title_low\n",
       "890     Title_low\n",
       "Name: Title, Length: 891, dtype: object"
      ]
     },
     "execution_count": 87,
     "metadata": {},
     "output_type": "execute_result"
    }
   ],
   "source": [
    "train[\"Title\"]"
   ]
  },
  {
   "cell_type": "code",
   "execution_count": 88,
   "metadata": {
    "execution": {
     "iopub.execute_input": "2023-03-16T22:17:38.067397Z",
     "iopub.status.busy": "2023-03-16T22:17:38.066641Z",
     "iopub.status.idle": "2023-03-16T22:17:38.075517Z",
     "shell.execute_reply": "2023-03-16T22:17:38.074124Z",
     "shell.execute_reply.started": "2023-03-16T22:17:38.067351Z"
    }
   },
   "outputs": [],
   "source": [
    "# Cabin\n",
    "train[\"Cabin\"] = train[\"Cabin\"].apply(assign_label_cabin)\n",
    "test[\"Cabin\"] = test[\"Cabin\"].apply(assign_label_cabin)"
   ]
  },
  {
   "cell_type": "code",
   "execution_count": 89,
   "metadata": {
    "execution": {
     "iopub.execute_input": "2023-03-16T22:17:40.581742Z",
     "iopub.status.busy": "2023-03-16T22:17:40.581329Z",
     "iopub.status.idle": "2023-03-16T22:17:40.590813Z",
     "shell.execute_reply": "2023-03-16T22:17:40.589703Z",
     "shell.execute_reply.started": "2023-03-16T22:17:40.581711Z"
    }
   },
   "outputs": [
    {
     "data": {
      "text/plain": [
       "0       Cabin_low\n",
       "1      Cabin_high\n",
       "2       Cabin_low\n",
       "3      Cabin_high\n",
       "4       Cabin_low\n",
       "          ...    \n",
       "886     Cabin_low\n",
       "887    Cabin_high\n",
       "888     Cabin_low\n",
       "889    Cabin_high\n",
       "890     Cabin_low\n",
       "Name: Cabin, Length: 891, dtype: object"
      ]
     },
     "execution_count": 89,
     "metadata": {},
     "output_type": "execute_result"
    }
   ],
   "source": [
    "train[\"Cabin\"]"
   ]
  },
  {
   "cell_type": "code",
   "execution_count": 90,
   "metadata": {
    "execution": {
     "iopub.execute_input": "2023-03-16T22:17:43.562845Z",
     "iopub.status.busy": "2023-03-16T22:17:43.562340Z",
     "iopub.status.idle": "2023-03-16T22:17:43.587951Z",
     "shell.execute_reply": "2023-03-16T22:17:43.586585Z",
     "shell.execute_reply.started": "2023-03-16T22:17:43.562804Z"
    }
   },
   "outputs": [],
   "source": [
    "train = pd.get_dummies(columns=[\"Pclass\", \"Embarked\", \"Ticket\", \"Cabin\",\"Title\", \"Fsize\"], data=train, drop_first=True)\n",
    "test = pd.get_dummies(columns=[\"Pclass\", \"Embarked\", \"Ticket\", \"Cabin\", \"Title\", \"Fsize\"], data=test, drop_first=True)"
   ]
  },
  {
   "cell_type": "code",
   "execution_count": 91,
   "metadata": {
    "execution": {
     "iopub.execute_input": "2023-03-16T22:17:45.112870Z",
     "iopub.status.busy": "2023-03-16T22:17:45.112375Z",
     "iopub.status.idle": "2023-03-16T22:17:45.133883Z",
     "shell.execute_reply": "2023-03-16T22:17:45.132342Z",
     "shell.execute_reply.started": "2023-03-16T22:17:45.112828Z"
    }
   },
   "outputs": [
    {
     "data": {
      "text/html": [
       "<div>\n",
       "<style scoped>\n",
       "    .dataframe tbody tr th:only-of-type {\n",
       "        vertical-align: middle;\n",
       "    }\n",
       "\n",
       "    .dataframe tbody tr th {\n",
       "        vertical-align: top;\n",
       "    }\n",
       "\n",
       "    .dataframe thead th {\n",
       "        text-align: right;\n",
       "    }\n",
       "</style>\n",
       "<table border=\"1\" class=\"dataframe\">\n",
       "  <thead>\n",
       "    <tr style=\"text-align: right;\">\n",
       "      <th></th>\n",
       "      <th>PassengerId</th>\n",
       "      <th>Survived</th>\n",
       "      <th>Name</th>\n",
       "      <th>Sex</th>\n",
       "      <th>Age</th>\n",
       "      <th>SibSp</th>\n",
       "      <th>Parch</th>\n",
       "      <th>Fare</th>\n",
       "      <th>Pclass_2</th>\n",
       "      <th>Pclass_3</th>\n",
       "      <th>Embarked_Q</th>\n",
       "      <th>Embarked_S</th>\n",
       "      <th>Ticket_Ticket_low</th>\n",
       "      <th>Ticket_Ticket_middle</th>\n",
       "      <th>Cabin_Cabin_low</th>\n",
       "      <th>Cabin_Cabin_middle</th>\n",
       "      <th>Title_Title_low</th>\n",
       "      <th>Title_Title_middle</th>\n",
       "      <th>Fsize_Big_family</th>\n",
       "      <th>Fsize_Small_family</th>\n",
       "    </tr>\n",
       "  </thead>\n",
       "  <tbody>\n",
       "    <tr>\n",
       "      <th>0</th>\n",
       "      <td>1</td>\n",
       "      <td>0</td>\n",
       "      <td>Braund, Mr. Owen Harris</td>\n",
       "      <td>1</td>\n",
       "      <td>22.0</td>\n",
       "      <td>1</td>\n",
       "      <td>0</td>\n",
       "      <td>7.2500</td>\n",
       "      <td>0</td>\n",
       "      <td>1</td>\n",
       "      <td>0</td>\n",
       "      <td>1</td>\n",
       "      <td>1</td>\n",
       "      <td>0</td>\n",
       "      <td>1</td>\n",
       "      <td>0</td>\n",
       "      <td>1</td>\n",
       "      <td>0</td>\n",
       "      <td>0</td>\n",
       "      <td>1</td>\n",
       "    </tr>\n",
       "    <tr>\n",
       "      <th>1</th>\n",
       "      <td>2</td>\n",
       "      <td>1</td>\n",
       "      <td>Cumings, Mrs. John Bradley (Florence Briggs Th...</td>\n",
       "      <td>0</td>\n",
       "      <td>38.0</td>\n",
       "      <td>1</td>\n",
       "      <td>0</td>\n",
       "      <td>71.2833</td>\n",
       "      <td>0</td>\n",
       "      <td>0</td>\n",
       "      <td>0</td>\n",
       "      <td>0</td>\n",
       "      <td>0</td>\n",
       "      <td>0</td>\n",
       "      <td>0</td>\n",
       "      <td>0</td>\n",
       "      <td>0</td>\n",
       "      <td>0</td>\n",
       "      <td>0</td>\n",
       "      <td>1</td>\n",
       "    </tr>\n",
       "    <tr>\n",
       "      <th>2</th>\n",
       "      <td>3</td>\n",
       "      <td>1</td>\n",
       "      <td>Heikkinen, Miss. Laina</td>\n",
       "      <td>0</td>\n",
       "      <td>26.0</td>\n",
       "      <td>0</td>\n",
       "      <td>0</td>\n",
       "      <td>7.9250</td>\n",
       "      <td>0</td>\n",
       "      <td>1</td>\n",
       "      <td>0</td>\n",
       "      <td>1</td>\n",
       "      <td>0</td>\n",
       "      <td>1</td>\n",
       "      <td>1</td>\n",
       "      <td>0</td>\n",
       "      <td>0</td>\n",
       "      <td>0</td>\n",
       "      <td>0</td>\n",
       "      <td>0</td>\n",
       "    </tr>\n",
       "    <tr>\n",
       "      <th>3</th>\n",
       "      <td>4</td>\n",
       "      <td>1</td>\n",
       "      <td>Futrelle, Mrs. Jacques Heath (Lily May Peel)</td>\n",
       "      <td>0</td>\n",
       "      <td>35.0</td>\n",
       "      <td>1</td>\n",
       "      <td>0</td>\n",
       "      <td>53.1000</td>\n",
       "      <td>0</td>\n",
       "      <td>0</td>\n",
       "      <td>0</td>\n",
       "      <td>1</td>\n",
       "      <td>0</td>\n",
       "      <td>0</td>\n",
       "      <td>0</td>\n",
       "      <td>0</td>\n",
       "      <td>0</td>\n",
       "      <td>0</td>\n",
       "      <td>0</td>\n",
       "      <td>1</td>\n",
       "    </tr>\n",
       "    <tr>\n",
       "      <th>4</th>\n",
       "      <td>5</td>\n",
       "      <td>0</td>\n",
       "      <td>Allen, Mr. William Henry</td>\n",
       "      <td>1</td>\n",
       "      <td>35.0</td>\n",
       "      <td>0</td>\n",
       "      <td>0</td>\n",
       "      <td>8.0500</td>\n",
       "      <td>0</td>\n",
       "      <td>1</td>\n",
       "      <td>0</td>\n",
       "      <td>1</td>\n",
       "      <td>1</td>\n",
       "      <td>0</td>\n",
       "      <td>1</td>\n",
       "      <td>0</td>\n",
       "      <td>1</td>\n",
       "      <td>0</td>\n",
       "      <td>0</td>\n",
       "      <td>0</td>\n",
       "    </tr>\n",
       "  </tbody>\n",
       "</table>\n",
       "</div>"
      ],
      "text/plain": [
       "   PassengerId  Survived                                               Name  \\\n",
       "0            1         0                            Braund, Mr. Owen Harris   \n",
       "1            2         1  Cumings, Mrs. John Bradley (Florence Briggs Th...   \n",
       "2            3         1                             Heikkinen, Miss. Laina   \n",
       "3            4         1       Futrelle, Mrs. Jacques Heath (Lily May Peel)   \n",
       "4            5         0                           Allen, Mr. William Henry   \n",
       "\n",
       "   Sex   Age  SibSp  Parch     Fare  Pclass_2  Pclass_3  Embarked_Q  \\\n",
       "0    1  22.0      1      0   7.2500         0         1           0   \n",
       "1    0  38.0      1      0  71.2833         0         0           0   \n",
       "2    0  26.0      0      0   7.9250         0         1           0   \n",
       "3    0  35.0      1      0  53.1000         0         0           0   \n",
       "4    1  35.0      0      0   8.0500         0         1           0   \n",
       "\n",
       "   Embarked_S  Ticket_Ticket_low  Ticket_Ticket_middle  Cabin_Cabin_low  \\\n",
       "0           1                  1                     0                1   \n",
       "1           0                  0                     0                0   \n",
       "2           1                  0                     1                1   \n",
       "3           1                  0                     0                0   \n",
       "4           1                  1                     0                1   \n",
       "\n",
       "   Cabin_Cabin_middle  Title_Title_low  Title_Title_middle  Fsize_Big_family  \\\n",
       "0                   0                1                   0                 0   \n",
       "1                   0                0                   0                 0   \n",
       "2                   0                0                   0                 0   \n",
       "3                   0                0                   0                 0   \n",
       "4                   0                1                   0                 0   \n",
       "\n",
       "   Fsize_Small_family  \n",
       "0                   1  \n",
       "1                   1  \n",
       "2                   0  \n",
       "3                   1  \n",
       "4                   0  "
      ]
     },
     "execution_count": 91,
     "metadata": {},
     "output_type": "execute_result"
    }
   ],
   "source": [
    "train.head()"
   ]
  },
  {
   "cell_type": "code",
   "execution_count": 92,
   "metadata": {
    "execution": {
     "iopub.execute_input": "2023-03-16T22:17:46.230801Z",
     "iopub.status.busy": "2023-03-16T22:17:46.230371Z",
     "iopub.status.idle": "2023-03-16T22:17:46.242033Z",
     "shell.execute_reply": "2023-03-16T22:17:46.240748Z",
     "shell.execute_reply.started": "2023-03-16T22:17:46.230763Z"
    }
   },
   "outputs": [],
   "source": [
    "target = train[\"Survived\"]\n",
    "train.drop([\"Survived\", \"SibSp\", \"Parch\", \"Name\", \"PassengerId\"], axis=1, inplace=True)\n",
    "test.drop([\"SibSp\", \"Parch\", \"Name\",\"PassengerId\"], axis=1, inplace=True)"
   ]
  },
  {
   "cell_type": "code",
   "execution_count": 93,
   "metadata": {
    "execution": {
     "iopub.execute_input": "2023-03-16T22:17:47.439412Z",
     "iopub.status.busy": "2023-03-16T22:17:47.438483Z",
     "iopub.status.idle": "2023-03-16T22:17:47.491530Z",
     "shell.execute_reply": "2023-03-16T22:17:47.490550Z",
     "shell.execute_reply.started": "2023-03-16T22:17:47.439358Z"
    }
   },
   "outputs": [
    {
     "data": {
      "text/html": [
       "<div>\n",
       "<style scoped>\n",
       "    .dataframe tbody tr th:only-of-type {\n",
       "        vertical-align: middle;\n",
       "    }\n",
       "\n",
       "    .dataframe tbody tr th {\n",
       "        vertical-align: top;\n",
       "    }\n",
       "\n",
       "    .dataframe thead th {\n",
       "        text-align: right;\n",
       "    }\n",
       "</style>\n",
       "<table border=\"1\" class=\"dataframe\">\n",
       "  <thead>\n",
       "    <tr style=\"text-align: right;\">\n",
       "      <th></th>\n",
       "      <th>Sex</th>\n",
       "      <th>Age</th>\n",
       "      <th>Fare</th>\n",
       "      <th>Pclass_2</th>\n",
       "      <th>Pclass_3</th>\n",
       "      <th>Embarked_Q</th>\n",
       "      <th>Embarked_S</th>\n",
       "      <th>Ticket_Ticket_low</th>\n",
       "      <th>Ticket_Ticket_middle</th>\n",
       "      <th>Cabin_Cabin_low</th>\n",
       "      <th>Cabin_Cabin_middle</th>\n",
       "      <th>Title_Title_low</th>\n",
       "      <th>Title_Title_middle</th>\n",
       "      <th>Fsize_Big_family</th>\n",
       "      <th>Fsize_Small_family</th>\n",
       "    </tr>\n",
       "  </thead>\n",
       "  <tbody>\n",
       "    <tr>\n",
       "      <th>0</th>\n",
       "      <td>1</td>\n",
       "      <td>22.0</td>\n",
       "      <td>7.2500</td>\n",
       "      <td>0</td>\n",
       "      <td>1</td>\n",
       "      <td>0</td>\n",
       "      <td>1</td>\n",
       "      <td>1</td>\n",
       "      <td>0</td>\n",
       "      <td>1</td>\n",
       "      <td>0</td>\n",
       "      <td>1</td>\n",
       "      <td>0</td>\n",
       "      <td>0</td>\n",
       "      <td>1</td>\n",
       "    </tr>\n",
       "    <tr>\n",
       "      <th>1</th>\n",
       "      <td>0</td>\n",
       "      <td>38.0</td>\n",
       "      <td>71.2833</td>\n",
       "      <td>0</td>\n",
       "      <td>0</td>\n",
       "      <td>0</td>\n",
       "      <td>0</td>\n",
       "      <td>0</td>\n",
       "      <td>0</td>\n",
       "      <td>0</td>\n",
       "      <td>0</td>\n",
       "      <td>0</td>\n",
       "      <td>0</td>\n",
       "      <td>0</td>\n",
       "      <td>1</td>\n",
       "    </tr>\n",
       "    <tr>\n",
       "      <th>2</th>\n",
       "      <td>0</td>\n",
       "      <td>26.0</td>\n",
       "      <td>7.9250</td>\n",
       "      <td>0</td>\n",
       "      <td>1</td>\n",
       "      <td>0</td>\n",
       "      <td>1</td>\n",
       "      <td>0</td>\n",
       "      <td>1</td>\n",
       "      <td>1</td>\n",
       "      <td>0</td>\n",
       "      <td>0</td>\n",
       "      <td>0</td>\n",
       "      <td>0</td>\n",
       "      <td>0</td>\n",
       "    </tr>\n",
       "    <tr>\n",
       "      <th>3</th>\n",
       "      <td>0</td>\n",
       "      <td>35.0</td>\n",
       "      <td>53.1000</td>\n",
       "      <td>0</td>\n",
       "      <td>0</td>\n",
       "      <td>0</td>\n",
       "      <td>1</td>\n",
       "      <td>0</td>\n",
       "      <td>0</td>\n",
       "      <td>0</td>\n",
       "      <td>0</td>\n",
       "      <td>0</td>\n",
       "      <td>0</td>\n",
       "      <td>0</td>\n",
       "      <td>1</td>\n",
       "    </tr>\n",
       "    <tr>\n",
       "      <th>4</th>\n",
       "      <td>1</td>\n",
       "      <td>35.0</td>\n",
       "      <td>8.0500</td>\n",
       "      <td>0</td>\n",
       "      <td>1</td>\n",
       "      <td>0</td>\n",
       "      <td>1</td>\n",
       "      <td>1</td>\n",
       "      <td>0</td>\n",
       "      <td>1</td>\n",
       "      <td>0</td>\n",
       "      <td>1</td>\n",
       "      <td>0</td>\n",
       "      <td>0</td>\n",
       "      <td>0</td>\n",
       "    </tr>\n",
       "  </tbody>\n",
       "</table>\n",
       "</div>"
      ],
      "text/plain": [
       "   Sex   Age     Fare  Pclass_2  Pclass_3  Embarked_Q  Embarked_S  \\\n",
       "0    1  22.0   7.2500         0         1           0           1   \n",
       "1    0  38.0  71.2833         0         0           0           0   \n",
       "2    0  26.0   7.9250         0         1           0           1   \n",
       "3    0  35.0  53.1000         0         0           0           1   \n",
       "4    1  35.0   8.0500         0         1           0           1   \n",
       "\n",
       "   Ticket_Ticket_low  Ticket_Ticket_middle  Cabin_Cabin_low  \\\n",
       "0                  1                     0                1   \n",
       "1                  0                     0                0   \n",
       "2                  0                     1                1   \n",
       "3                  0                     0                0   \n",
       "4                  1                     0                1   \n",
       "\n",
       "   Cabin_Cabin_middle  Title_Title_low  Title_Title_middle  Fsize_Big_family  \\\n",
       "0                   0                1                   0                 0   \n",
       "1                   0                0                   0                 0   \n",
       "2                   0                0                   0                 0   \n",
       "3                   0                0                   0                 0   \n",
       "4                   0                1                   0                 0   \n",
       "\n",
       "   Fsize_Small_family  \n",
       "0                   1  \n",
       "1                   1  \n",
       "2                   0  \n",
       "3                   1  \n",
       "4                   0  "
      ]
     },
     "metadata": {},
     "output_type": "display_data"
    },
    {
     "data": {
      "text/html": [
       "<div>\n",
       "<style scoped>\n",
       "    .dataframe tbody tr th:only-of-type {\n",
       "        vertical-align: middle;\n",
       "    }\n",
       "\n",
       "    .dataframe tbody tr th {\n",
       "        vertical-align: top;\n",
       "    }\n",
       "\n",
       "    .dataframe thead th {\n",
       "        text-align: right;\n",
       "    }\n",
       "</style>\n",
       "<table border=\"1\" class=\"dataframe\">\n",
       "  <thead>\n",
       "    <tr style=\"text-align: right;\">\n",
       "      <th></th>\n",
       "      <th>Sex</th>\n",
       "      <th>Age</th>\n",
       "      <th>Fare</th>\n",
       "      <th>Pclass_2</th>\n",
       "      <th>Pclass_3</th>\n",
       "      <th>Embarked_Q</th>\n",
       "      <th>Embarked_S</th>\n",
       "      <th>Ticket_Ticket_low</th>\n",
       "      <th>Ticket_Ticket_middle</th>\n",
       "      <th>Cabin_Cabin_low</th>\n",
       "      <th>Cabin_Cabin_middle</th>\n",
       "      <th>Title_Title_low</th>\n",
       "      <th>Title_Title_middle</th>\n",
       "      <th>Fsize_Big_family</th>\n",
       "      <th>Fsize_Small_family</th>\n",
       "    </tr>\n",
       "  </thead>\n",
       "  <tbody>\n",
       "    <tr>\n",
       "      <th>0</th>\n",
       "      <td>1</td>\n",
       "      <td>34.0</td>\n",
       "      <td>7.8292</td>\n",
       "      <td>0</td>\n",
       "      <td>1</td>\n",
       "      <td>1</td>\n",
       "      <td>0</td>\n",
       "      <td>1</td>\n",
       "      <td>0</td>\n",
       "      <td>1</td>\n",
       "      <td>0</td>\n",
       "      <td>1</td>\n",
       "      <td>0</td>\n",
       "      <td>0</td>\n",
       "      <td>0</td>\n",
       "    </tr>\n",
       "    <tr>\n",
       "      <th>1</th>\n",
       "      <td>0</td>\n",
       "      <td>47.0</td>\n",
       "      <td>7.0000</td>\n",
       "      <td>0</td>\n",
       "      <td>1</td>\n",
       "      <td>0</td>\n",
       "      <td>1</td>\n",
       "      <td>1</td>\n",
       "      <td>0</td>\n",
       "      <td>1</td>\n",
       "      <td>0</td>\n",
       "      <td>0</td>\n",
       "      <td>0</td>\n",
       "      <td>0</td>\n",
       "      <td>1</td>\n",
       "    </tr>\n",
       "    <tr>\n",
       "      <th>2</th>\n",
       "      <td>1</td>\n",
       "      <td>62.0</td>\n",
       "      <td>9.6875</td>\n",
       "      <td>1</td>\n",
       "      <td>0</td>\n",
       "      <td>1</td>\n",
       "      <td>0</td>\n",
       "      <td>0</td>\n",
       "      <td>1</td>\n",
       "      <td>1</td>\n",
       "      <td>0</td>\n",
       "      <td>1</td>\n",
       "      <td>0</td>\n",
       "      <td>0</td>\n",
       "      <td>0</td>\n",
       "    </tr>\n",
       "    <tr>\n",
       "      <th>3</th>\n",
       "      <td>1</td>\n",
       "      <td>27.0</td>\n",
       "      <td>8.6625</td>\n",
       "      <td>0</td>\n",
       "      <td>1</td>\n",
       "      <td>0</td>\n",
       "      <td>1</td>\n",
       "      <td>1</td>\n",
       "      <td>0</td>\n",
       "      <td>1</td>\n",
       "      <td>0</td>\n",
       "      <td>1</td>\n",
       "      <td>0</td>\n",
       "      <td>0</td>\n",
       "      <td>0</td>\n",
       "    </tr>\n",
       "    <tr>\n",
       "      <th>4</th>\n",
       "      <td>0</td>\n",
       "      <td>22.0</td>\n",
       "      <td>12.2875</td>\n",
       "      <td>0</td>\n",
       "      <td>1</td>\n",
       "      <td>0</td>\n",
       "      <td>1</td>\n",
       "      <td>1</td>\n",
       "      <td>0</td>\n",
       "      <td>1</td>\n",
       "      <td>0</td>\n",
       "      <td>0</td>\n",
       "      <td>0</td>\n",
       "      <td>0</td>\n",
       "      <td>1</td>\n",
       "    </tr>\n",
       "  </tbody>\n",
       "</table>\n",
       "</div>"
      ],
      "text/plain": [
       "   Sex   Age     Fare  Pclass_2  Pclass_3  Embarked_Q  Embarked_S  \\\n",
       "0    1  34.0   7.8292         0         1           1           0   \n",
       "1    0  47.0   7.0000         0         1           0           1   \n",
       "2    1  62.0   9.6875         1         0           1           0   \n",
       "3    1  27.0   8.6625         0         1           0           1   \n",
       "4    0  22.0  12.2875         0         1           0           1   \n",
       "\n",
       "   Ticket_Ticket_low  Ticket_Ticket_middle  Cabin_Cabin_low  \\\n",
       "0                  1                     0                1   \n",
       "1                  1                     0                1   \n",
       "2                  0                     1                1   \n",
       "3                  1                     0                1   \n",
       "4                  1                     0                1   \n",
       "\n",
       "   Cabin_Cabin_middle  Title_Title_low  Title_Title_middle  Fsize_Big_family  \\\n",
       "0                   0                1                   0                 0   \n",
       "1                   0                0                   0                 0   \n",
       "2                   0                1                   0                 0   \n",
       "3                   0                1                   0                 0   \n",
       "4                   0                0                   0                 0   \n",
       "\n",
       "   Fsize_Small_family  \n",
       "0                   0  \n",
       "1                   1  \n",
       "2                   0  \n",
       "3                   0  \n",
       "4                   1  "
      ]
     },
     "metadata": {},
     "output_type": "display_data"
    },
    {
     "name": "stdout",
     "output_type": "stream",
     "text": [
      "<class 'pandas.core.frame.DataFrame'>\n",
      "RangeIndex: 891 entries, 0 to 890\n",
      "Data columns (total 15 columns):\n",
      " #   Column                Non-Null Count  Dtype  \n",
      "---  ------                --------------  -----  \n",
      " 0   Sex                   891 non-null    int64  \n",
      " 1   Age                   891 non-null    float64\n",
      " 2   Fare                  891 non-null    float64\n",
      " 3   Pclass_2              891 non-null    uint8  \n",
      " 4   Pclass_3              891 non-null    uint8  \n",
      " 5   Embarked_Q            891 non-null    uint8  \n",
      " 6   Embarked_S            891 non-null    uint8  \n",
      " 7   Ticket_Ticket_low     891 non-null    uint8  \n",
      " 8   Ticket_Ticket_middle  891 non-null    uint8  \n",
      " 9   Cabin_Cabin_low       891 non-null    uint8  \n",
      " 10  Cabin_Cabin_middle    891 non-null    uint8  \n",
      " 11  Title_Title_low       891 non-null    uint8  \n",
      " 12  Title_Title_middle    891 non-null    uint8  \n",
      " 13  Fsize_Big_family      891 non-null    uint8  \n",
      " 14  Fsize_Small_family    891 non-null    uint8  \n",
      "dtypes: float64(2), int64(1), uint8(12)\n",
      "memory usage: 31.4 KB\n",
      "None\n",
      "<class 'pandas.core.frame.DataFrame'>\n",
      "RangeIndex: 418 entries, 0 to 417\n",
      "Data columns (total 15 columns):\n",
      " #   Column                Non-Null Count  Dtype  \n",
      "---  ------                --------------  -----  \n",
      " 0   Sex                   418 non-null    int64  \n",
      " 1   Age                   418 non-null    float64\n",
      " 2   Fare                  418 non-null    float64\n",
      " 3   Pclass_2              418 non-null    uint8  \n",
      " 4   Pclass_3              418 non-null    uint8  \n",
      " 5   Embarked_Q            418 non-null    uint8  \n",
      " 6   Embarked_S            418 non-null    uint8  \n",
      " 7   Ticket_Ticket_low     418 non-null    uint8  \n",
      " 8   Ticket_Ticket_middle  418 non-null    uint8  \n",
      " 9   Cabin_Cabin_low       418 non-null    uint8  \n",
      " 10  Cabin_Cabin_middle    418 non-null    uint8  \n",
      " 11  Title_Title_low       418 non-null    uint8  \n",
      " 12  Title_Title_middle    418 non-null    uint8  \n",
      " 13  Fsize_Big_family      418 non-null    uint8  \n",
      " 14  Fsize_Small_family    418 non-null    uint8  \n",
      "dtypes: float64(2), int64(1), uint8(12)\n",
      "memory usage: 14.8 KB\n",
      "None\n"
     ]
    }
   ],
   "source": [
    "display(train.head())\n",
    "display(test.head())\n",
    "\n",
    "print(train.info())\n",
    "print(test.info())"
   ]
  },
  {
   "cell_type": "markdown",
   "metadata": {},
   "source": [
    "**Machine Learning**"
   ]
  },
  {
   "cell_type": "code",
   "execution_count": 94,
   "metadata": {
    "execution": {
     "iopub.execute_input": "2023-03-16T22:17:50.702836Z",
     "iopub.status.busy": "2023-03-16T22:17:50.701491Z",
     "iopub.status.idle": "2023-03-16T22:17:50.710918Z",
     "shell.execute_reply": "2023-03-16T22:17:50.709512Z",
     "shell.execute_reply.started": "2023-03-16T22:17:50.702794Z"
    }
   },
   "outputs": [],
   "source": [
    "from sklearn.model_selection import train_test_split\n",
    "\n",
    "# Select the features and the target\n",
    "X = train.values\n",
    "y = target.values\n",
    "\n",
    "# Split the data info training and test sets\n",
    "X_train, X_test, y_train, y_test = train_test_split(X, y, test_size=0.2, random_state=34, stratify=y)"
   ]
  },
  {
   "cell_type": "code",
   "execution_count": null,
   "metadata": {},
   "outputs": [],
   "source": []
  },
  {
   "cell_type": "code",
   "execution_count": null,
   "metadata": {},
   "outputs": [],
   "source": []
  },
  {
   "cell_type": "code",
   "execution_count": null,
   "metadata": {},
   "outputs": [],
   "source": []
  }
 ],
 "metadata": {
  "kernelspec": {
   "display_name": "Python 3 (ipykernel)",
   "language": "python",
   "name": "python3"
  },
  "language_info": {
   "codemirror_mode": {
    "name": "ipython",
    "version": 3
   },
   "file_extension": ".py",
   "mimetype": "text/x-python",
   "name": "python",
   "nbconvert_exporter": "python",
   "pygments_lexer": "ipython3",
   "version": "3.9.12"
  }
 },
 "nbformat": 4,
 "nbformat_minor": 4
}
